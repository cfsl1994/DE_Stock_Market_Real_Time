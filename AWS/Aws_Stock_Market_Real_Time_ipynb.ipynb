{
  "nbformat": 4,
  "nbformat_minor": 0,
  "metadata": {
    "colab": {
      "provenance": []
    },
    "kernelspec": {
      "name": "python3",
      "display_name": "Python 3"
    },
    "language_info": {
      "name": "python"
    }
  },
  "cells": [
    {
      "cell_type": "code",
      "execution_count": null,
      "metadata": {
        "id": "q6mcP7AOXwJM"
      },
      "outputs": [],
      "source": [
        "!pip install boto3"
      ]
    },
    {
      "cell_type": "code",
      "source": [
        "import boto3\n",
        "import pandas as pd\n",
        "from json import dumps\n",
        "import logging\n",
        "import random\n",
        "\n",
        "# Setup basic logging\n",
        "logging.basicConfig(level=logging.INFO, format='%(asctime)s - %(levelname)s - %(message)s')\n",
        "\n",
        "# Provide your AWS credentials and region\n",
        "aws_access_key_id = 'YOUR KEY ID'\n",
        "aws_secret_access_key = 'YOUR ACCESS KEY'\n",
        "region_name = 'us-east-2'\n",
        "stream_name = 'stock_market_real_time_kinesis_data_stream'\n",
        "\n",
        "# Load your data into a DataFrame\n",
        "df = pd.read_csv('indexProcessed.csv')\n",
        "\n",
        "# Create a Kinesis client\n",
        "kinesis_client = boto3.client('kinesis', region_name=region_name,\n",
        "                              aws_access_key_id=aws_access_key_id,\n",
        "                              aws_secret_access_key=aws_secret_access_key)\n",
        "\n",
        "# Infinite loop to continuously generate and publish events\n",
        "while True:\n",
        "    try:\n",
        "        # Randomly sample one record from the DataFrame and convert it to a dictionary\n",
        "        dict_stock = df.sample(1).to_dict(orient='records')[0]\n",
        "        serialized_data = dumps(dict_stock)\n",
        "        print(serialized_data)\n",
        "\n",
        "        # Send the serialized data as a record to the Kinesis data stream\n",
        "        response = kinesis_client.put_record(\n",
        "            StreamName=stream_name,\n",
        "            Data=serialized_data,\n",
        "            PartitionKey=str(random.randint(0, 10000))  # Random partition key for load distribution\n",
        "        )\n",
        "        logging.info(f\"Record sent successfully, SequenceNumber: {response['SequenceNumber']}\")\n",
        "\n",
        "    except Exception as e:\n",
        "        logging.error(f\"Failed to send record: {str(e)}\")\n"
      ],
      "metadata": {
        "id": "qsvZra9xYOb1"
      },
      "execution_count": null,
      "outputs": []
    }
  ]
}