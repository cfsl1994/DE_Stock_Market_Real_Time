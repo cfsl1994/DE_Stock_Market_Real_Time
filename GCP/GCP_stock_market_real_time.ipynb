{
  "cells": [
    {
      "cell_type": "code",
      "execution_count": null,
      "metadata": {
        "id": "Snn1YSXi9Nt_"
      },
      "outputs": [],
      "source": [
        "!pip install google-cloud-pubsub"
      ]
    },
    {
      "cell_type": "code",
      "execution_count": null,
      "metadata": {
        "colab": {
          "base_uri": "https://localhost:8080/",
          "height": 1000
        },
        "id": "WKtSKPCkAApN",
        "outputId": "ff3ecfd2-bb01-4c40-9eed-b5690fc46188"
      },
      "outputs": [],
      "source": [
        "from google.cloud import pubsub_v1\n",
        "import os\n",
        "import pandas as pd\n",
        "from json import dumps\n",
        "import logging\n",
        "\n",
        "# Provide the path to the service account key file\n",
        "os.environ['GOOGLE_APPLICATION_CREDENTIALS'] = 'YOUR CREDENTIAL GCP'\n",
        "\n",
        "# Define your project ID and the topic name\n",
        "project_id = \"YOUR PROJECT ID\"\n",
        "topic_name = \"stock_market_real_time_pub_sub\"\n",
        "\n",
        "# Load your data into a DataFrame\n",
        "df = pd.read_csv('indexProcessed.csv')\n",
        "\n",
        "# Initialize the Pub/Sub Publisher client\n",
        "publisher = pubsub_v1.PublisherClient()\n",
        "topic_path = publisher.topic_path(project_id, topic_name)\n",
        "\n",
        "# Infinite loop to continuously generate and publish events\n",
        "while True:\n",
        "    try:\n",
        "        # Randomly sample one record from the DataFrame and convert it to a dictionary\n",
        "        dict_stock = df.sample(1).to_dict(orient='records')[0]\n",
        "        serialized_data = dumps(dict_stock)\n",
        "        print(serialized_data)\n",
        "\n",
        "        # Data must be a bytestring\n",
        "        data = serialized_data.encode('utf-8')\n",
        "\n",
        "        # When you publish a message, the client returns a future.\n",
        "        future = publisher.publish(topic_path, data, event_type='stock_update')\n",
        "        logging.info(f\"Record sent successfully, Message ID: {future.result()}\")\n",
        "\n",
        "    except Exception as e:\n",
        "        logging.error(f\"Failed to send record: {str(e)}\")"
      ]
    }
  ],
  "metadata": {
    "colab": {
      "provenance": []
    },
    "kernelspec": {
      "display_name": "Python 3",
      "name": "python3"
    },
    "language_info": {
      "name": "python"
    }
  },
  "nbformat": 4,
  "nbformat_minor": 0
}
