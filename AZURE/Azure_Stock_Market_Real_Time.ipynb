{
  "nbformat": 4,
  "nbformat_minor": 0,
  "metadata": {
    "colab": {
      "provenance": []
    },
    "kernelspec": {
      "name": "python3",
      "display_name": "Python 3"
    },
    "language_info": {
      "name": "python"
    }
  },
  "cells": [
    {
      "cell_type": "code",
      "execution_count": null,
      "metadata": {
        "id": "2jhMOA80m6Tx"
      },
      "outputs": [],
      "source": [
        "!!pip install azure-eventhub"
      ]
    },
    {
      "cell_type": "code",
      "source": [
        "from azure.eventhub import EventHubProducerClient, EventData\n",
        "import pandas as pd\n",
        "from json import dumps\n",
        "import logging\n",
        "\n",
        "# Setup basic logging\n",
        "logging.basicConfig(level=logging.INFO, format='%(asctime)s - %(levelname)s - %(message)s')\n",
        "\n",
        "# Provide the connection string to the Event Hubs namespace and the Event Hub name\n",
        "connection_str = 'YOUR ENDPOINT'\n",
        "eventhub_name = 'stock_market_real_time_eventhub'\n",
        "\n",
        "# Load your data into a DataFrame\n",
        "df = pd.read_csv('indexProcessed.csv')\n",
        "\n",
        "# Create a producer client to send messages to the event hub\n",
        "producer = EventHubProducerClient.from_connection_string(conn_str=connection_str, eventhub_name=eventhub_name)\n",
        "\n",
        "# Infinite loop to continuously generate and publish events\n",
        "while True:\n",
        "  try:\n",
        "      # Create a batch\n",
        "      batch = producer.create_batch()\n",
        "\n",
        "      # Randomly sample one record from the DataFrame and convert it to a dictionary\n",
        "      dict_stock = df.sample(1).to_dict(orient='records')[0]\n",
        "      print(dumps(dict_stock))\n",
        "\n",
        "      # Serialize the dictionary to JSON and then create EventData\n",
        "      event_data = EventData(dumps(dict_stock))\n",
        "      batch.add(event_data)\n",
        "\n",
        "      # Try to send the batch of events to the event hub\n",
        "      try:\n",
        "          producer.send_batch(batch)\n",
        "          logging.info(\"Batch sent successfully.\")\n",
        "      except Exception as e:\n",
        "          logging.error(\"Failed to send batch: {}\".format(str(e)))\n",
        "\n",
        "  except Exception as e:\n",
        "      logging.error(\"Failed during the batch creation/sending process: {}\".format(str(e)))\n",
        "\n",
        "#  finally:\n",
        "#      # Close the connection\n",
        "#      producer.close()\n",
        "#      logging.info(\"Event Hub producer closed.\")"
      ],
      "metadata": {
        "id": "wuB3sUpRuqMw"
      },
      "execution_count": null,
      "outputs": []
    }
  ]
}